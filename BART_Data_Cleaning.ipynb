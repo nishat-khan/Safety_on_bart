{
 "cells": [
  {
   "cell_type": "code",
   "execution_count": 7,
   "metadata": {},
   "outputs": [],
   "source": [
    "from collections import OrderedDict, defaultdict\n",
    "import glob\n",
    "import pandas as pd, numpy as np, datetime, re, os, math"
   ]
  },
  {
   "cell_type": "markdown",
   "metadata": {},
   "source": [
    "### Data source"
   ]
  },
  {
   "cell_type": "code",
   "execution_count": 8,
   "metadata": {},
   "outputs": [],
   "source": [
    "# https://www.bart.gov/about/reports/ridership"
   ]
  },
  {
   "cell_type": "code",
   "execution_count": 9,
   "metadata": {},
   "outputs": [],
   "source": [
    "full_filenames = glob.glob(\"/Users/maxine/Documents/GitHub/Visualization/Ridership*.xlsx\", recursive=True)"
   ]
  },
  {
   "cell_type": "code",
   "execution_count": 10,
   "metadata": {},
   "outputs": [
    {
     "data": {
      "text/plain": [
       "['/Users/maxine/Documents/GitHub/Visualization/Ridership_201901.xlsx',\n",
       " '/Users/maxine/Documents/GitHub/Visualization/Ridership_201907.xlsx',\n",
       " '/Users/maxine/Documents/GitHub/Visualization/Ridership_201906.xlsx',\n",
       " '/Users/maxine/Documents/GitHub/Visualization/Ridership_201905.xlsx',\n",
       " '/Users/maxine/Documents/GitHub/Visualization/Ridership_201908.xlsx',\n",
       " '/Users/maxine/Documents/GitHub/Visualization/Ridership_201904.xlsx',\n",
       " '/Users/maxine/Documents/GitHub/Visualization/Ridership_201903.xlsx',\n",
       " '/Users/maxine/Documents/GitHub/Visualization/Ridership_201902.xlsx']"
      ]
     },
     "execution_count": 10,
     "metadata": {},
     "output_type": "execute_result"
    }
   ],
   "source": [
    "full_filenames"
   ]
  },
  {
   "cell_type": "code",
   "execution_count": 11,
   "metadata": {},
   "outputs": [],
   "source": [
    "station_abbreviations_from_Bart = [\n",
    "    'Unnamed: 0',\n",
    "    'RM',\n",
    "    'EN',\n",
    "    'EP',\n",
    "    'NB',\n",
    "    'BK',\n",
    "    'AS',\n",
    "    'MA',\n",
    "    19,\n",
    "    12,\n",
    "    'LM',\n",
    "    'FV',\n",
    "    'CL',\n",
    "    'SL',\n",
    "    'BF',\n",
    "    'HY',\n",
    "    'SH',\n",
    "    'UC',\n",
    "    'FM',\n",
    "    'CN',\n",
    "    'PH',\n",
    "    'WC',\n",
    "    'LF',\n",
    "    'OR',\n",
    "    'RR',\n",
    "    'OW',\n",
    "    'EM',\n",
    "    'MT',\n",
    "    'PL',\n",
    "    'CC',\n",
    "    16,\n",
    "    24,\n",
    "    'GP',\n",
    "    'BP',\n",
    "    'DC',\n",
    "    'CM',\n",
    "    'CV',\n",
    "    'ED',\n",
    "    'NC',\n",
    "    'WP',\n",
    "    'SS',\n",
    "    'SB',\n",
    "    'SO',\n",
    "    'MB',\n",
    "    'WD',\n",
    "    'OA',\n",
    "    'WS',\n",
    "    'Exits',\n",
    "]"
   ]
  },
  {
   "cell_type": "markdown",
   "metadata": {},
   "source": [
    "### Code for parsing all Excel files containing BART data from January to August 2019"
   ]
  },
  {
   "cell_type": "code",
   "execution_count": 12,
   "metadata": {},
   "outputs": [],
   "source": [
    "def is_valid(df):\n",
    "    return set(station_abbreviations_from_Bart).issubset(set(df.columns))\n",
    "\n",
    "def get_data(filename) -> dict:\n",
    "    return pd.read_excel(filename, sheet_name=None, skiprows=1, index=False, index_col=False)\n",
    "\n",
    "def process_tab(df, tabname, filename) -> pd.DataFrame:\n",
    "    return df[station_abbreviations_from_Bart].assign(tabname=tabname, filename=filename.split(\"/\")[-1])\n",
    "\n",
    "def process_all_tabs(filename):\n",
    "    return [\n",
    "        process_tab(df=df, tabname=tabname, filename=filename) \n",
    "        for tabname, df \n",
    "        in get_data(filename).items() \n",
    "        if is_valid(df)\n",
    "    ]\n",
    "\n",
    "def filename_to_dataframe(filename: str) -> pd.DataFrame:\n",
    "    return pd.concat(process_all_tabs(filename=filename), axis=0, sort=False)\n",
    "\n",
    "def get_final_data(filenames) -> pd.DataFrame:\n",
    "    return pd.concat([filename_to_dataframe(filename) for filename in filenames], axis=0, sort=False)\n",
    "\n",
    "import pandas as pd, numpy as np, datetime, re, os, math\n",
    "\n",
    "filenames = full_filenames\n",
    "\n",
    "def filename_to_dataframe(filename: str) -> pd.DataFrame:\n",
    "    data = pd.read_excel(filename, sheet_name=None, skiprows=1, index=False, index_col=False)\n",
    "    return pd.concat(\n",
    "        [\n",
    "            df[station_abbreviations_from_Bart].assign(tabname=tabname, filename=filename.split(\"/\")[-1])\n",
    "            for tabname, df in data.items() if is_valid(df)\n",
    "        ],\n",
    "        axis = 0, sort = False\n",
    "    )\n",
    "\n",
    "dfs = [filename_to_dataframe(filename) for filename in filenames]\n",
    "\n",
    "df: pd.DataFrame = pd.concat(dfs, axis = 0, sort = False)\n",
    "    \n",
    "def get_final_data(filenames) -> pd.DataFrame:\n",
    "    return pd.concat([filename_to_dataframe(filename) for filename in filenames], axis=0, sort=False)\n"
   ]
  },
  {
   "cell_type": "code",
   "execution_count": 13,
   "metadata": {},
   "outputs": [],
   "source": [
    "filenames = full_filenames\n",
    "\n",
    "df_bart_raw: pd.DataFrame = get_final_data(filenames)"
   ]
  },
  {
   "cell_type": "code",
   "execution_count": 15,
   "metadata": {},
   "outputs": [],
   "source": [
    "df_bart_raw.to_csv('bart_data.csv')"
   ]
  },
  {
   "cell_type": "code",
   "execution_count": null,
   "metadata": {},
   "outputs": [],
   "source": []
  }
 ],
 "metadata": {
  "kernelspec": {
   "display_name": "Python 3",
   "language": "python",
   "name": "python3"
  },
  "language_info": {
   "codemirror_mode": {
    "name": "ipython",
    "version": 3
   },
   "file_extension": ".py",
   "mimetype": "text/x-python",
   "name": "python",
   "nbconvert_exporter": "python",
   "pygments_lexer": "ipython3",
   "version": "3.7.3"
  }
 },
 "nbformat": 4,
 "nbformat_minor": 2
}
